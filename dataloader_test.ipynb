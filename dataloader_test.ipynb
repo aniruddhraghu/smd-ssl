{
 "cells": [
  {
   "attachments": {},
   "cell_type": "markdown",
   "id": "23c3db8f",
   "metadata": {},
   "source": [
    "# Testing SSL dataloading"
   ]
  },
  {
   "cell_type": "code",
   "execution_count": 1,
   "id": "c443f385",
   "metadata": {},
   "outputs": [],
   "source": [
    "import os\n",
    "os.environ['PROJECTS_BASE'] = '.'\n",
    "import numpy as np\n",
    "import torch\n",
    "\n",
    "import pandas as pd\n",
    "from trajectories.representation_learner.example_dataset import PatientDataset\n",
    "\n",
    "import matplotlib.pyplot as plt\n",
    "%matplotlib inline"
   ]
  },
  {
   "cell_type": "code",
   "execution_count": 2,
   "id": "4345d407",
   "metadata": {},
   "outputs": [],
   "source": [
    "dataset = PatientDataset(min_seq_len=8, max_seq_len=8, eval_seq_len=8, task='ssl', \n",
    "                         signal_seconds=10, signal_mask=0.25, \n",
    "                         history_cutout_prob = 0.5, history_cutout_frac= 0.25, \n",
    "                         spatial_dropout_rate= 0.0, corrupt_rate=0.25)"
   ]
  },
  {
   "cell_type": "code",
   "execution_count": 3,
   "id": "b81807f4",
   "metadata": {},
   "outputs": [],
   "source": [
    "train_dataloader = torch.utils.data.DataLoader(\n",
    "            dataset, batch_size=8, \n",
    "            num_workers=1, shuffle=True)"
   ]
  },
  {
   "cell_type": "code",
   "execution_count": 4,
   "id": "00d45bd6",
   "metadata": {
    "scrolled": true
   },
   "outputs": [
    {
     "data": {
      "text/plain": [
       "dict_keys(['signals_timeseries1', 'signals_timeseries2', 'structured_timeseries1', 'structured_timeseries2', 'statics1', 'statics2', 'signals_timeseries', 'pt_ids', 'start_times', 'structured_timeseries', 'statics', 'end_idx'])"
      ]
     },
     "execution_count": 4,
     "metadata": {},
     "output_type": "execute_result"
    }
   ],
   "source": [
    "batch = iter(train_dataloader).next()\n",
    "\n",
    "batch.keys()"
   ]
  },
  {
   "cell_type": "code",
   "execution_count": 5,
   "id": "cfe5e71c",
   "metadata": {},
   "outputs": [
    {
     "data": {
      "text/plain": [
       "torch.Size([8, 8, 1, 1250])"
      ]
     },
     "execution_count": 5,
     "metadata": {},
     "output_type": "execute_result"
    }
   ],
   "source": [
    "batch['signals_timeseries1'].shape"
   ]
  },
  {
   "cell_type": "code",
   "execution_count": 6,
   "id": "e9cfbfe9",
   "metadata": {},
   "outputs": [
    {
     "data": {
      "text/plain": [
       "torch.Size([8, 8, 10])"
      ]
     },
     "execution_count": 6,
     "metadata": {},
     "output_type": "execute_result"
    }
   ],
   "source": [
    "batch['structured_timeseries1'].shape"
   ]
  },
  {
   "cell_type": "code",
   "execution_count": 7,
   "id": "43fc04c3",
   "metadata": {},
   "outputs": [
    {
     "data": {
      "text/plain": [
       "torch.Size([8, 10])"
      ]
     },
     "execution_count": 7,
     "metadata": {},
     "output_type": "execute_result"
    }
   ],
   "source": [
    "batch['statics1'].shape"
   ]
  },
  {
   "attachments": {},
   "cell_type": "markdown",
   "id": "2055bd5f",
   "metadata": {},
   "source": [
    "# Testing FT dataset loading"
   ]
  },
  {
   "cell_type": "code",
   "execution_count": 8,
   "id": "0688a30a",
   "metadata": {},
   "outputs": [],
   "source": [
    "dataset = PatientDataset(task='example_task',min_seq_len=8, max_seq_len=8, eval_seq_len=8)"
   ]
  },
  {
   "cell_type": "code",
   "execution_count": 9,
   "id": "1974b411",
   "metadata": {},
   "outputs": [],
   "source": [
    "train_dataloader = torch.utils.data.DataLoader(\n",
    "            dataset, batch_size=2, \n",
    "            num_workers=0, shuffle=True)"
   ]
  },
  {
   "cell_type": "code",
   "execution_count": 10,
   "id": "d26862a1",
   "metadata": {
    "scrolled": true
   },
   "outputs": [],
   "source": [
    "batch = iter(train_dataloader).next()"
   ]
  },
  {
   "cell_type": "code",
   "execution_count": 11,
   "id": "61f322cd",
   "metadata": {},
   "outputs": [
    {
     "data": {
      "text/plain": [
       "dict_keys(['example_task', 'signals_timeseries', 'pt_ids', 'start_times', 'structured_timeseries', 'statics', 'end_idx'])"
      ]
     },
     "execution_count": 11,
     "metadata": {},
     "output_type": "execute_result"
    }
   ],
   "source": [
    "batch.keys()"
   ]
  },
  {
   "cell_type": "code",
   "execution_count": 12,
   "id": "696de310",
   "metadata": {},
   "outputs": [
    {
     "data": {
      "text/plain": [
       "torch.Size([2, 8, 1, 1250])"
      ]
     },
     "execution_count": 12,
     "metadata": {},
     "output_type": "execute_result"
    }
   ],
   "source": [
    "batch['signals_timeseries'].shape"
   ]
  },
  {
   "cell_type": "code",
   "execution_count": 13,
   "id": "612c7068",
   "metadata": {},
   "outputs": [
    {
     "data": {
      "text/plain": [
       "torch.Size([2, 8, 10])"
      ]
     },
     "execution_count": 13,
     "metadata": {},
     "output_type": "execute_result"
    }
   ],
   "source": [
    "batch['structured_timeseries'].shape"
   ]
  },
  {
   "cell_type": "code",
   "execution_count": 14,
   "id": "48c142f6",
   "metadata": {},
   "outputs": [
    {
     "data": {
      "text/plain": [
       "torch.Size([2, 10])"
      ]
     },
     "execution_count": 14,
     "metadata": {},
     "output_type": "execute_result"
    }
   ],
   "source": [
    "batch['statics'].shape"
   ]
  }
 ],
 "metadata": {
  "kernelspec": {
   "display_name": "Python 3 (ipykernel)",
   "language": "python",
   "name": "python3"
  },
  "language_info": {
   "codemirror_mode": {
    "name": "ipython",
    "version": 3
   },
   "file_extension": ".py",
   "mimetype": "text/x-python",
   "name": "python",
   "nbconvert_exporter": "python",
   "pygments_lexer": "ipython3",
   "version": "3.9.13"
  }
 },
 "nbformat": 4,
 "nbformat_minor": 5
}
